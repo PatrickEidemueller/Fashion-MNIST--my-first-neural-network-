{
 "cells": [
  {
   "cell_type": "code",
   "execution_count": 1,
   "metadata": {},
   "outputs": [
    {
     "name": "stderr",
     "output_type": "stream",
     "text": [
      "Using TensorFlow backend.\n"
     ]
    }
   ],
   "source": [
    "# FashionMNIST: https://github.com/zalandoresearch/fashion-mnist\n",
    "\n",
    "import gzip\n",
    "import numpy as np\n",
    "from keras.utils import to_categorical\n",
    "\n",
    "def open_images(filename):\n",
    "    with gzip.open(filename, \"rb\") as file:\n",
    "        data = file.read()\n",
    "        return np.frombuffer(data, dtype=np.uint8, offset=16)\\\n",
    "            .reshape(-1, 28, 28)\\\n",
    "            .astype(np.float32)\n",
    "\n",
    "\n",
    "def open_labels(filename):\n",
    "    with gzip.open(filename, \"rb\") as file:\n",
    "        data = file.read()\n",
    "        return np.frombuffer(data, dtype=np.uint8, offset=8)\n",
    "    \n",
    "X_train = open_images(\"../data/fashion/train-images-idx3-ubyte.gz\")\n",
    "y_train = open_labels(\"../data/fashion/train-labels-idx1-ubyte.gz\")\n",
    "\n",
    "X_test = open_images(\"../data/fashion/t10k-images-idx3-ubyte.gz\")\n",
    "y_test = open_labels(\"../data/fashion/t10k-labels-idx1-ubyte.gz\")\n",
    "\n",
    "y_train = to_categorical(y_train)\n",
    "y_test = to_categorical(y_test)"
   ]
  },
  {
   "cell_type": "code",
   "execution_count": 2,
   "metadata": {},
   "outputs": [
    {
     "name": "stdout",
     "output_type": "stream",
     "text": [
      "Epoch 1/10\n",
      "60000/60000 [==============================] - 11s 182us/step - loss: 0.8561 - accuracy: 0.7422\n",
      "Epoch 2/10\n",
      "60000/60000 [==============================] - 10s 162us/step - loss: 0.4909 - accuracy: 0.8362\n",
      "Epoch 3/10\n",
      "60000/60000 [==============================] - 10s 162us/step - loss: 0.4019 - accuracy: 0.8603\n",
      "Epoch 4/10\n",
      "60000/60000 [==============================] - 9s 147us/step - loss: 0.3568 - accuracy: 0.8751\n",
      "Epoch 5/10\n",
      "60000/60000 [==============================] - 9s 157us/step - loss: 0.3263 - accuracy: 0.8840\n",
      "Epoch 6/10\n",
      "60000/60000 [==============================] - 11s 176us/step - loss: 0.3086 - accuracy: 0.8894\n",
      "Epoch 7/10\n",
      "60000/60000 [==============================] - 9s 156us/step - loss: 0.2921 - accuracy: 0.8953\n",
      "Epoch 8/10\n",
      "60000/60000 [==============================] - 10s 161us/step - loss: 0.2773 - accuracy: 0.9000\n",
      "Epoch 9/10\n",
      "60000/60000 [==============================] - 10s 159us/step - loss: 0.2650 - accuracy: 0.9055\n",
      "Epoch 10/10\n",
      "60000/60000 [==============================] - 9s 144us/step - loss: 0.2542 - accuracy: 0.9085\n"
     ]
    },
    {
     "data": {
      "text/plain": [
       "<keras.callbacks.callbacks.History at 0x1474b4630>"
      ]
     },
     "execution_count": 2,
     "metadata": {},
     "output_type": "execute_result"
    }
   ],
   "source": [
    "#convolutional neural network\n",
    "\n",
    "from keras.models import Sequential\n",
    "from keras.layers import Dense, Conv2D, MaxPooling2D, Flatten, Dropout\n",
    "\n",
    "model = Sequential()\n",
    "\n",
    "model.add(Conv2D(10, kernel_size=(3, 3), activation=\"relu\", input_shape=(28, 28, 1)))\n",
    "model.add(MaxPooling2D(pool_size=(2, 2)))\n",
    "# model.add(Dropout(0.25))\n",
    "model.add(Flatten())\n",
    "model.add(Dense(100, activation=\"sigmoid\"))\n",
    "# model.add(Dropout(0.25))\n",
    "\n",
    "model.add(Dense(10, activation=\"softmax\"))\n",
    "\n",
    "model.compile(optimizer=\"rmsprop\", loss=\"categorical_crossentropy\", metrics=[\"accuracy\"])\n",
    "\n",
    "model.fit(\n",
    "    X_train.reshape(60000, 28, 28, 1),\n",
    "    y_train,\n",
    "    epochs=10,\n",
    "    batch_size=1000)"
   ]
  },
  {
   "cell_type": "code",
   "execution_count": 3,
   "metadata": {},
   "outputs": [
    {
     "name": "stdout",
     "output_type": "stream",
     "text": [
      "60000/60000 [==============================] - 5s 80us/step\n",
      "[0.23804426416357358, 0.9150166511535645]\n",
      "10000/10000 [==============================] - 1s 79us/step\n",
      "[0.3042007420659065, 0.8902000188827515]\n"
     ]
    }
   ],
   "source": [
    "print(model.evaluate(X_train.reshape(-1, 28, 28, 1), y_train))\n",
    "print(model.evaluate(X_test.reshape(-1, 28, 28, 1), y_test))"
   ]
  },
  {
   "cell_type": "code",
   "execution_count": 4,
   "metadata": {},
   "outputs": [],
   "source": [
    "model2 = Sequential()\n",
    "\n",
    "model2.add(Conv2D(10, \n",
    "                  kernel_size=(3, 3), \n",
    "                  activation=\"sigmoid\", \n",
    "                  input_shape=(28, 28, 1), \n",
    "                  weights=model.layers[0].get_weights()))"
   ]
  },
  {
   "cell_type": "code",
   "execution_count": 46,
   "metadata": {},
   "outputs": [
    {
     "data": {
      "image/png": "[encoded data removed]",
      "text/plain": [
       "<Figure size 432x288 with 1 Axes>"
      ]
     },
     "metadata": {
      "needs_background": "light"
     },
     "output_type": "display_data"
    }
   ],
   "source": [
    "%matplotlib inline\n",
    "\n",
    "import matplotlib.pyplot as plt\n",
    "\n",
    "plt.imshow(X_test[2], cmap=\"gray_r\")\n",
    "plt.show()"
   ]
  },
  {
   "cell_type": "code",
   "execution_count": 47,
   "metadata": {},
   "outputs": [],
   "source": [
    "result = model2.predict(X_test[2].reshape(1, 28, 28, 1))"
   ]
  },
  {
   "cell_type": "code",
   "execution_count": 48,
   "metadata": {},
   "outputs": [
    {
     "data": {
      "text/plain": [
       "(1, 26, 26, 10)"
      ]
     },
     "execution_count": 48,
     "metadata": {},
     "output_type": "execute_result"
    }
   ],
   "source": [
    "result.shape"
   ]
  },
  {
   "cell_type": "code",
   "execution_count": 49,
   "metadata": {},
   "outputs": [
    {
     "data": {
      "text/plain": [
       "(26, 26, 10)"
      ]
     },
     "execution_count": 49,
     "metadata": {},
     "output_type": "execute_result"
    }
   ],
   "source": [
    "result[0].shape"
   ]
  },
  {
   "cell_type": "code",
   "execution_count": 50,
   "metadata": {},
   "outputs": [
    {
     "data": {
      "text/plain": [
       "array([[5.44869423e-01, 5.44869423e-01, 5.44869423e-01, 5.44869423e-01,\n",
       "        5.44869423e-01, 5.44869423e-01, 5.46129465e-01, 2.95629472e-01,\n",
       "        7.91111870e-06, 0.00000000e+00, 0.00000000e+00, 0.00000000e+00,\n",
       "        0.00000000e+00, 0.00000000e+00, 0.00000000e+00, 0.00000000e+00,\n",
       "        0.00000000e+00, 0.00000000e+00, 1.32162716e-08, 9.99999881e-01,\n",
       "        5.44869423e-01, 5.44869423e-01, 5.44869423e-01, 5.44869423e-01,\n",
       "        5.44869423e-01, 5.44869423e-01],\n",
       "       [5.44869423e-01, 5.44869423e-01, 5.44869423e-01, 5.44869423e-01,\n",
       "        5.44869423e-01, 5.44869423e-01, 5.90464771e-01, 3.31563294e-01,\n",
       "        1.07638009e-01, 0.00000000e+00, 0.00000000e+00, 0.00000000e+00,\n",
       "        0.00000000e+00, 0.00000000e+00, 0.00000000e+00, 0.00000000e+00,\n",
       "        0.00000000e+00, 0.00000000e+00, 4.29021114e-32, 9.99922991e-01,\n",
       "        5.44869423e-01, 5.44869423e-01, 5.44869423e-01, 5.44869423e-01,\n",
       "        5.44869423e-01, 5.44869423e-01],\n",
       "       [5.44869423e-01, 5.44869423e-01, 5.44869423e-01, 5.44869423e-01,\n",
       "        5.44869423e-01, 5.44869423e-01, 5.44869423e-01, 3.34323794e-01,\n",
       "        8.60045075e-01, 0.00000000e+00, 0.00000000e+00, 0.00000000e+00,\n",
       "        0.00000000e+00, 0.00000000e+00, 0.00000000e+00, 0.00000000e+00,\n",
       "        0.00000000e+00, 0.00000000e+00, 0.00000000e+00, 9.98395503e-01,\n",
       "        5.44869423e-01, 5.44869423e-01, 5.44869423e-01, 5.44869423e-01,\n",
       "        5.44869423e-01, 5.44869423e-01],\n",
       "       [5.44869423e-01, 5.44869423e-01, 5.44869423e-01, 5.44869423e-01,\n",
       "        5.44869423e-01, 5.44869423e-01, 5.44869423e-01, 3.35337818e-02,\n",
       "        1.36063192e-02, 0.00000000e+00, 0.00000000e+00, 0.00000000e+00,\n",
       "        0.00000000e+00, 0.00000000e+00, 0.00000000e+00, 0.00000000e+00,\n",
       "        0.00000000e+00, 0.00000000e+00, 0.00000000e+00, 9.93354559e-01,\n",
       "        5.44869423e-01, 5.44869423e-01, 5.44869423e-01, 5.44869423e-01,\n",
       "        5.44869423e-01, 5.44869423e-01],\n",
       "       [5.44869423e-01, 5.44869423e-01, 5.44869423e-01, 5.44869423e-01,\n",
       "        5.44869423e-01, 5.44869423e-01, 5.44869423e-01, 7.16470182e-03,\n",
       "        8.44870506e-13, 0.00000000e+00, 0.00000000e+00, 0.00000000e+00,\n",
       "        0.00000000e+00, 0.00000000e+00, 0.00000000e+00, 0.00000000e+00,\n",
       "        0.00000000e+00, 0.00000000e+00, 0.00000000e+00, 8.67968649e-02,\n",
       "        5.44869423e-01, 5.44869423e-01, 5.44869423e-01, 5.44869423e-01,\n",
       "        5.44869423e-01, 5.44869423e-01],\n",
       "       [5.44869423e-01, 5.44869423e-01, 5.44869423e-01, 5.44869423e-01,\n",
       "        5.44869423e-01, 5.44869423e-01, 5.44869423e-01, 7.33370194e-03,\n",
       "        2.16606606e-27, 0.00000000e+00, 0.00000000e+00, 0.00000000e+00,\n",
       "        0.00000000e+00, 0.00000000e+00, 0.00000000e+00, 0.00000000e+00,\n",
       "        0.00000000e+00, 0.00000000e+00, 0.00000000e+00, 7.76486559e-05,\n",
       "        5.44869423e-01, 5.44869423e-01, 5.44869423e-01, 5.44869423e-01,\n",
       "        5.44869423e-01, 5.44869423e-01],\n",
       "       [5.44869423e-01, 5.44869423e-01, 5.44869423e-01, 5.44869423e-01,\n",
       "        5.44869423e-01, 5.44869423e-01, 5.44869423e-01, 1.19385561e-02,\n",
       "        0.00000000e+00, 0.00000000e+00, 0.00000000e+00, 0.00000000e+00,\n",
       "        0.00000000e+00, 0.00000000e+00, 0.00000000e+00, 0.00000000e+00,\n",
       "        0.00000000e+00, 0.00000000e+00, 0.00000000e+00, 1.95299668e-04,\n",
       "        5.44869423e-01, 5.44869423e-01, 5.44869423e-01, 5.44869423e-01,\n",
       "        5.44869423e-01, 5.44869423e-01],\n",
       "       [5.44869423e-01, 5.44869423e-01, 5.44869423e-01, 5.44869423e-01,\n",
       "        5.44869423e-01, 5.44869423e-01, 5.44869423e-01, 1.35051683e-01,\n",
       "        0.00000000e+00, 0.00000000e+00, 0.00000000e+00, 0.00000000e+00,\n",
       "        0.00000000e+00, 0.00000000e+00, 0.00000000e+00, 0.00000000e+00,\n",
       "        0.00000000e+00, 0.00000000e+00, 0.00000000e+00, 1.37930065e-01,\n",
       "        5.44869423e-01, 5.44869423e-01, 5.44869423e-01, 5.44869423e-01,\n",
       "        5.44869423e-01, 5.44869423e-01],\n",
       "       [5.44869423e-01, 5.44869423e-01, 5.44869423e-01, 5.44869423e-01,\n",
       "        5.44869423e-01, 5.44869423e-01, 5.44869423e-01, 6.14072919e-01,\n",
       "        0.00000000e+00, 0.00000000e+00, 0.00000000e+00, 0.00000000e+00,\n",
       "        0.00000000e+00, 1.31466340e-11, 0.00000000e+00, 0.00000000e+00,\n",
       "        0.00000000e+00, 0.00000000e+00, 0.00000000e+00, 8.14876139e-01,\n",
       "        5.44869423e-01, 5.44869423e-01, 5.44869423e-01, 5.44869423e-01,\n",
       "        5.44869423e-01, 5.44869423e-01],\n",
       "       [5.44869423e-01, 5.44869423e-01, 5.44869423e-01, 5.44869423e-01,\n",
       "        5.44869423e-01, 5.44869423e-01, 5.44869423e-01, 6.25871360e-01,\n",
       "        0.00000000e+00, 0.00000000e+00, 0.00000000e+00, 0.00000000e+00,\n",
       "        0.00000000e+00, 6.81073553e-09, 0.00000000e+00, 0.00000000e+00,\n",
       "        0.00000000e+00, 0.00000000e+00, 0.00000000e+00, 9.06523038e-03,\n",
       "        5.44869423e-01, 5.44869423e-01, 5.44869423e-01, 5.44869423e-01,\n",
       "        5.44869423e-01, 5.44869423e-01],\n",
       "       [5.44869423e-01, 5.44869423e-01, 5.44869423e-01, 5.44869423e-01,\n",
       "        5.44869423e-01, 5.44869423e-01, 5.44869423e-01, 8.92862856e-01,\n",
       "        0.00000000e+00, 0.00000000e+00, 0.00000000e+00, 0.00000000e+00,\n",
       "        5.20761779e-17, 6.10281885e-01, 0.00000000e+00, 0.00000000e+00,\n",
       "        0.00000000e+00, 0.00000000e+00, 0.00000000e+00, 1.37012766e-03,\n",
       "        5.44869423e-01, 5.44869423e-01, 5.44869423e-01, 5.44869423e-01,\n",
       "        5.44869423e-01, 5.44869423e-01],\n",
       "       [5.44869423e-01, 5.44869423e-01, 5.44869423e-01, 5.44869423e-01,\n",
       "        5.44869423e-01, 5.44869423e-01, 5.44869423e-01, 9.54780400e-01,\n",
       "        0.00000000e+00, 0.00000000e+00, 0.00000000e+00, 0.00000000e+00,\n",
       "        8.12012445e-07, 9.94910181e-01, 0.00000000e+00, 0.00000000e+00,\n",
       "        0.00000000e+00, 0.00000000e+00, 0.00000000e+00, 6.57410771e-02,\n",
       "        5.44869423e-01, 5.44869423e-01, 5.44869423e-01, 5.44869423e-01,\n",
       "        5.44869423e-01, 5.44869423e-01],\n",
       "       [5.44869423e-01, 5.44869423e-01, 5.44869423e-01, 5.44869423e-01,\n",
       "        5.44869423e-01, 5.44869423e-01, 5.44869423e-01, 9.54780400e-01,\n",
       "        0.00000000e+00, 0.00000000e+00, 0.00000000e+00, 0.00000000e+00,\n",
       "        1.42526645e-07, 9.99135196e-01, 0.00000000e+00, 0.00000000e+00,\n",
       "        0.00000000e+00, 0.00000000e+00, 4.69933147e-38, 2.50201553e-01,\n",
       "        5.44869423e-01, 5.44869423e-01, 5.44869423e-01, 5.44869423e-01,\n",
       "        5.44869423e-01, 5.44869423e-01],\n",
       "       [5.44869423e-01, 5.44869423e-01, 5.44869423e-01, 5.44869423e-01,\n",
       "        5.44869423e-01, 5.44869423e-01, 5.44869423e-01, 9.54780400e-01,\n",
       "        0.00000000e+00, 0.00000000e+00, 0.00000000e+00, 0.00000000e+00,\n",
       "        1.08410825e-06, 9.99923348e-01, 5.64411144e-32, 0.00000000e+00,\n",
       "        0.00000000e+00, 0.00000000e+00, 4.97390778e-38, 2.78135892e-02,\n",
       "        5.44869423e-01, 5.44869423e-01, 5.44869423e-01, 5.44869423e-01,\n",
       "        5.44869423e-01, 5.44869423e-01],\n",
       "       [5.44869423e-01, 5.44869423e-01, 5.44869423e-01, 5.44869423e-01,\n",
       "        5.44869423e-01, 5.44869423e-01, 5.44869423e-01, 9.83816385e-01,\n",
       "        0.00000000e+00, 0.00000000e+00, 0.00000000e+00, 0.00000000e+00,\n",
       "        2.36930118e-05, 9.91940677e-01, 6.98116608e-12, 0.00000000e+00,\n",
       "        0.00000000e+00, 0.00000000e+00, 1.48843457e-36, 1.02634281e-02,\n",
       "        5.44869423e-01, 5.44869423e-01, 5.44869423e-01, 5.44869423e-01,\n",
       "        5.44869423e-01, 5.44869423e-01],\n",
       "       [5.44869423e-01, 5.44869423e-01, 5.44869423e-01, 5.44869423e-01,\n",
       "        5.44869423e-01, 5.44869423e-01, 5.44869423e-01, 9.97987628e-01,\n",
       "        0.00000000e+00, 0.00000000e+00, 0.00000000e+00, 0.00000000e+00,\n",
       "        9.90692317e-01, 6.99716330e-01, 3.99895459e-02, 0.00000000e+00,\n",
       "        0.00000000e+00, 0.00000000e+00, 5.08451743e-33, 5.61536610e-01,\n",
       "        5.44869423e-01, 5.44869423e-01, 5.44869423e-01, 5.44869423e-01,\n",
       "        5.44869423e-01, 5.44869423e-01],\n",
       "       [5.44869423e-01, 5.44869423e-01, 5.44869423e-01, 5.44869423e-01,\n",
       "        5.44869423e-01, 5.44869423e-01, 5.44869423e-01, 9.98662710e-01,\n",
       "        0.00000000e+00, 0.00000000e+00, 0.00000000e+00, 0.00000000e+00,\n",
       "        9.99997497e-01, 6.76500976e-01, 6.00295007e-01, 0.00000000e+00,\n",
       "        0.00000000e+00, 0.00000000e+00, 3.21434757e-32, 1.84675232e-01,\n",
       "        5.44869423e-01, 5.44869423e-01, 5.44869423e-01, 5.44869423e-01,\n",
       "        5.44869423e-01, 5.44869423e-01],\n",
       "       [5.44869423e-01, 5.44869423e-01, 5.44869423e-01, 5.44869423e-01,\n",
       "        5.44869423e-01, 5.44869423e-01, 5.44869423e-01, 9.99893546e-01,\n",
       "        0.00000000e+00, 0.00000000e+00, 0.00000000e+00, 0.00000000e+00,\n",
       "        9.99999166e-01, 5.44869423e-01, 9.59427774e-01, 0.00000000e+00,\n",
       "        0.00000000e+00, 0.00000000e+00, 3.32604694e-33, 1.13864325e-01,\n",
       "        5.44869423e-01, 5.44869423e-01, 5.44869423e-01, 5.44869423e-01,\n",
       "        5.44869423e-01, 5.44869423e-01],\n",
       "       [5.44869423e-01, 5.44869423e-01, 5.44869423e-01, 5.44869423e-01,\n",
       "        5.44869423e-01, 5.44869423e-01, 5.44869423e-01, 9.99892235e-01,\n",
       "        0.00000000e+00, 0.00000000e+00, 0.00000000e+00, 0.00000000e+00,\n",
       "        8.32537413e-02, 5.44869423e-01, 9.77818131e-01, 0.00000000e+00,\n",
       "        0.00000000e+00, 0.00000000e+00, 1.32008744e-31, 3.50521564e-01,\n",
       "        5.44869423e-01, 5.44869423e-01, 5.44869423e-01, 5.44869423e-01,\n",
       "        5.44869423e-01, 5.44869423e-01],\n",
       "       [5.44869423e-01, 5.44869423e-01, 5.44869423e-01, 5.44869423e-01,\n",
       "        5.44869423e-01, 5.44869423e-01, 5.44869423e-01, 9.99168515e-01,\n",
       "        4.84976930e-20, 0.00000000e+00, 0.00000000e+00, 0.00000000e+00,\n",
       "        8.14383402e-02, 9.99579132e-01, 9.86173153e-01, 0.00000000e+00,\n",
       "        0.00000000e+00, 0.00000000e+00, 1.70860690e-31, 4.99653697e-01,\n",
       "        5.44869423e-01, 5.44869423e-01, 5.44869423e-01, 5.44869423e-01,\n",
       "        5.44869423e-01, 5.44869423e-01],\n",
       "       [5.44869423e-01, 5.44869423e-01, 5.44869423e-01, 5.44869423e-01,\n",
       "        5.44869423e-01, 5.44869423e-01, 5.44869423e-01, 9.55289364e-01,\n",
       "        5.03655137e-05, 0.00000000e+00, 0.00000000e+00, 0.00000000e+00,\n",
       "        2.68946897e-05, 9.99981761e-01, 9.85551357e-01, 0.00000000e+00,\n",
       "        0.00000000e+00, 0.00000000e+00, 5.03155066e-34, 5.16957343e-01,\n",
       "        5.44869423e-01, 5.44869423e-01, 5.44869423e-01, 5.44869423e-01,\n",
       "        5.44869423e-01, 5.44869423e-01],\n",
       "       [5.44869423e-01, 5.44869423e-01, 5.44869423e-01, 5.44869423e-01,\n",
       "        5.44869423e-01, 5.44869423e-01, 5.35488784e-01, 5.43588996e-01,\n",
       "        9.95653749e-01, 0.00000000e+00, 0.00000000e+00, 0.00000000e+00,\n",
       "        3.21296240e-17, 9.99999881e-01, 9.94891524e-01, 0.00000000e+00,\n",
       "        0.00000000e+00, 0.00000000e+00, 7.78992668e-34, 1.17392335e-02,\n",
       "        5.44869423e-01, 5.44869423e-01, 5.44869423e-01, 5.44869423e-01,\n",
       "        5.44869423e-01, 5.44869423e-01],\n",
       "       [5.44869423e-01, 5.44869423e-01, 5.44869423e-01, 5.44869423e-01,\n",
       "        5.44869423e-01, 5.44869423e-01, 5.15116990e-01, 4.66507435e-01,\n",
       "        9.99997020e-01, 0.00000000e+00, 0.00000000e+00, 0.00000000e+00,\n",
       "        1.37693691e-32, 1.00000000e+00, 9.63734150e-01, 0.00000000e+00,\n",
       "        0.00000000e+00, 0.00000000e+00, 1.71213021e-31, 1.66343898e-02,\n",
       "        5.44869423e-01, 5.44869423e-01, 5.44869423e-01, 5.44869423e-01,\n",
       "        5.44869423e-01, 5.44869423e-01],\n",
       "       [5.44869423e-01, 5.44869423e-01, 5.44869423e-01, 5.44869423e-01,\n",
       "        5.44869423e-01, 5.44869423e-01, 5.08492589e-01, 2.91347861e-01,\n",
       "        9.99991059e-01, 4.83852721e-38, 0.00000000e+00, 0.00000000e+00,\n",
       "        0.00000000e+00, 9.97315347e-01, 9.76873279e-01, 0.00000000e+00,\n",
       "        0.00000000e+00, 0.00000000e+00, 2.90038579e-27, 9.85003829e-01,\n",
       "        5.44869423e-01, 5.44869423e-01, 5.44869423e-01, 5.44869423e-01,\n",
       "        5.44869423e-01, 5.44869423e-01],\n",
       "       [5.44869423e-01, 5.44869423e-01, 5.44869423e-01, 5.44869423e-01,\n",
       "        5.44869423e-01, 5.44869423e-01, 5.38016200e-01, 1.27692237e-01,\n",
       "        9.98434126e-01, 2.56546130e-12, 0.00000000e+00, 0.00000000e+00,\n",
       "        0.00000000e+00, 9.96838927e-01, 1.00000000e+00, 0.00000000e+00,\n",
       "        0.00000000e+00, 0.00000000e+00, 6.37195848e-28, 9.97764468e-01,\n",
       "        5.44869423e-01, 5.44869423e-01, 5.44869423e-01, 5.44869423e-01,\n",
       "        5.44869423e-01, 5.44869423e-01],\n",
       "       [5.44869423e-01, 5.44869423e-01, 5.44869423e-01, 5.44869423e-01,\n",
       "        5.44869423e-01, 5.44869423e-01, 6.24307513e-01, 1.31699353e-01,\n",
       "        4.09468681e-01, 9.99879360e-01, 0.00000000e+00, 0.00000000e+00,\n",
       "        0.00000000e+00, 6.82314935e-25, 8.50233585e-02, 0.00000000e+00,\n",
       "        0.00000000e+00, 0.00000000e+00, 0.00000000e+00, 2.94141978e-06,\n",
       "        5.44869423e-01, 5.44869423e-01, 5.44869423e-01, 5.44869423e-01,\n",
       "        5.44869423e-01, 5.44869423e-01]], dtype=float32)"
      ]
     },
     "execution_count": 50,
     "metadata": {},
     "output_type": "execute_result"
    }
   ],
   "source": [
    "result[0][:, :, 0]"
   ]
  },
  {
   "cell_type": "code",
   "execution_count": 51,
   "metadata": {},
   "outputs": [],
   "source": [
    "#Visualisierung der verschiedenen Layer "
   ]
  },
  {
   "cell_type": "code",
   "execution_count": 52,
   "metadata": {},
   "outputs": [
    {
     "data": {
      "image/png": "[encoded data removed]",
      "text/plain": [
       "<Figure size 432x288 with 1 Axes>"
      ]
     },
     "metadata": {
      "needs_background": "light"
     },
     "output_type": "display_data"
    }
   ],
   "source": [
    "plt.imshow(result[0][:, :, 1])\n",
    "plt.show()"
   ]
  },
  {
   "cell_type": "code",
   "execution_count": 53,
   "metadata": {},
   "outputs": [
    {
     "data": {
      "image/png": "[encoded data removed]",
      "text/plain": [
       "<Figure size 432x288 with 1 Axes>"
      ]
     },
     "metadata": {
      "needs_background": "light"
     },
     "output_type": "display_data"
    }
   ],
   "source": [
    "plt.imshow(result[0][:, :, 2])\n",
    "plt.show()"
   ]
  },
  {
   "cell_type": "code",
   "execution_count": 54,
   "metadata": {},
   "outputs": [
    {
     "data": {
      "image/png": "[encoded data removed]",
      "text/plain": [
       "<Figure size 432x288 with 1 Axes>"
      ]
     },
     "metadata": {
      "needs_background": "light"
     },
     "output_type": "display_data"
    }
   ],
   "source": [
    "plt.imshow(result[0][:, :, 3])\n",
    "plt.show()"
   ]
  },
  {
   "cell_type": "code",
   "execution_count": 55,
   "metadata": {},
   "outputs": [
    {
     "data": {
      "image/png": "[encoded data removed]",
      "text/plain": [
       "<Figure size 432x288 with 1 Axes>"
      ]
     },
     "metadata": {
      "needs_background": "light"
     },
     "output_type": "display_data"
    }
   ],
   "source": [
    "plt.imshow(result[0][:, :, 4])\n",
    "plt.show()"
   ]
  },
  {
   "cell_type": "code",
   "execution_count": 56,
   "metadata": {},
   "outputs": [
    {
     "data": {
      "image/png": "[encoded data removed]",
      "text/plain": [
       "<Figure size 432x288 with 1 Axes>"
      ]
     },
     "metadata": {
      "needs_background": "light"
     },
     "output_type": "display_data"
    }
   ],
   "source": [
    "plt.imshow(result[0][:, :, 5])\n",
    "plt.show()"
   ]
  },
  {
   "cell_type": "code",
   "execution_count": 57,
   "metadata": {},
   "outputs": [
    {
     "data": {
      "image/png": "[encoded data removed]",
      "text/plain": [
       "<Figure size 432x288 with 1 Axes>"
      ]
     },
     "metadata": {
      "needs_background": "light"
     },
     "output_type": "display_data"
    }
   ],
   "source": [
    "plt.imshow(result[0][:, :, 6])\n",
    "plt.show()"
   ]
  },
  {
   "cell_type": "code",
   "execution_count": 58,
   "metadata": {},
   "outputs": [
    {
     "data": {
      "image/png": "[encoded data removed]",
      "text/plain": [
       "<Figure size 432x288 with 1 Axes>"
      ]
     },
     "metadata": {
      "needs_background": "light"
     },
     "output_type": "display_data"
    }
   ],
   "source": [
    "plt.imshow(result[0][:, :, 7])\n",
    "plt.show()"
   ]
  },
  {
   "cell_type": "code",
   "execution_count": 59,
   "metadata": {},
   "outputs": [
    {
     "data": {
      "image/png": "[encoded data removed]",
      "text/plain": [
       "<Figure size 432x288 with 1 Axes>"
      ]
     },
     "metadata": {
      "needs_background": "light"
     },
     "output_type": "display_data"
    }
   ],
   "source": [
    "plt.imshow(result[0][:, :, 8])\n",
    "plt.show()"
   ]
  },
  {
   "cell_type": "code",
   "execution_count": 60,
   "metadata": {},
   "outputs": [
    {
     "data": {
      "image/png": "[encoded data removed]",
      "text/plain": [
       "<Figure size 432x288 with 1 Axes>"
      ]
     },
     "metadata": {
      "needs_background": "light"
     },
     "output_type": "display_data"
    }
   ],
   "source": [
    "plt.imshow(result[0][:, :, 9])\n",
    "plt.show()"
   ]
  },
  {
   "cell_type": "code",
   "execution_count": null,
   "metadata": {},
   "outputs": [],
   "source": []
  },
  {
   "cell_type": "code",
   "execution_count": null,
   "metadata": {},
   "outputs": [],
   "source": []
  }
 ],
 "metadata": {
  "kernelspec": {
   "display_name": "Python 3",
   "language": "python",
   "name": "python3"
  },
  "language_info": {
   "codemirror_mode": {
    "name": "ipython",
    "version": 3
   },
   "file_extension": ".py",
   "mimetype": "text/x-python",
   "name": "python",
   "nbconvert_exporter": "python",
   "pygments_lexer": "ipython3",
   "version": "3.7.3"
  }
 },
 "nbformat": 4,
 "nbformat_minor": 2
}
